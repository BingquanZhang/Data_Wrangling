{
 "cells": [
  {
   "cell_type": "code",
   "execution_count": 2,
   "id": "bdc10376-4b78-4fef-97b8-ccbc1ff704fb",
   "metadata": {},
   "outputs": [],
   "source": [
    "import pandas as pd\n",
    "import spotipy\n",
    "from spotipy.oauth2 import SpotifyOAuth\n",
    "from spotipy.oauth2 import SpotifyClientCredentials\n",
    "from requests.exceptions import HTTPError\n",
    "\n",
    "# Path to your CSV file\n",
    "csv_file = 'Spotify Most Streamed Songs.csv'\n",
    "\n",
    "# Spotify credentials and playlist ID\n",
    "client_id = '78a417244e874df79b88ebea59a57f18'\n",
    "client_secret = '1feb0a8cd0984f5cb54f7a3e9129af40'\n",
    "redirect_uri = 'https://accounts.spotify.com/authorize?client_id=78a417244e874df79b88ebea59a57f18&response_type=code&redirect_uri=http%3A%2F%2Flocalhost%2F&scope=playlist-modify-public'\n",
    "playlist_id = '6DUiUcSWM3UDEF8HrqhqWp'\n",
    "\n",
    "# Scopes required by the Spotify API to modify the playlist\n",
    "scope = 'playlist-modify-public'\n",
    "\n",
    "# Read the CSV file\n",
    "df = pd.read_csv(csv_file)\n",
    "\n",
    "client_credentials_manager = SpotifyClientCredentials(client_id, client_secret)\n",
    "sp = spotipy.Spotify(client_credentials_manager=client_credentials_manager)\n",
    "\n",
    "# Initialize Spotipy with user authorization\n",
    "sp = spotipy.Spotify(auth_manager=SpotifyOAuth(client_id=client_id,\n",
    "                                               client_secret=client_secret,\n",
    "                                               redirect_uri=redirect_uri,\n",
    "                                               scope=scope))\n",
    "\n",
    "# Function to search Spotify for track URIs\n",
    "def get_track_uri(track_name):\n",
    "    results = sp.search(q=track_name, limit=1, type='track')\n",
    "    items = results['tracks']['items']\n",
    "    if items:\n",
    "        return items[0]['uri']\n",
    "    else:\n",
    "        return None\n",
    "\n",
    "# List to store track URIs\n",
    "track_uris = []\n",
    "\n",
    "# Loop through the track names in the CSV file\n",
    "for track_name in df['track_name']:\n",
    "    uri = get_track_uri(track_name)\n",
    "    if uri:\n",
    "        track_uris.append(uri)\n"
   ]
  },
  {
   "cell_type": "code",
   "execution_count": 3,
   "id": "ce07fdf3-39a8-4b49-8825-2372aed524d0",
   "metadata": {},
   "outputs": [
    {
     "name": "stdout",
     "output_type": "stream",
     "text": [
      "Added 953 tracks to the playlist.\n"
     ]
    }
   ],
   "source": [
    "for i in range(0,len(track_uris),50):\n",
    "    sp.playlist_add_items(playlist_id, track_uris[i:i+50])\n",
    "print(f'Added {len(track_uris)} tracks to the playlist.')"
   ]
  }
 ],
 "metadata": {
  "kernelspec": {
   "display_name": "Python 3 (ipykernel)",
   "language": "python",
   "name": "python3"
  },
  "language_info": {
   "codemirror_mode": {
    "name": "ipython",
    "version": 3
   },
   "file_extension": ".py",
   "mimetype": "text/x-python",
   "name": "python",
   "nbconvert_exporter": "python",
   "pygments_lexer": "ipython3",
   "version": "3.9.0"
  }
 },
 "nbformat": 4,
 "nbformat_minor": 5
}
